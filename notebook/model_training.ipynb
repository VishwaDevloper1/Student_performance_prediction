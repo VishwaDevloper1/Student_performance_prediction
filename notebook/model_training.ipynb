{
 "cells": [
  {
   "metadata": {
    "ExecuteTime": {
     "end_time": "2024-08-31T04:17:59.973575Z",
     "start_time": "2024-08-31T04:17:59.942439Z"
    }
   },
   "cell_type": "code",
   "source": [
    "import pandas as pd\n",
    "import numpy as np\n",
    "import matplotlib.pyplot as plt\n",
    "import seaborn as sns\n",
    "from sklearn.linear_model import LinearRegression, LogisticRegression\n",
    "from sklearn.metrics import r2_score, mean_squared_error\n",
    "from sklearn.ensemble import RandomForestRegressor\n",
    "from sklearn.tree import DecisionTreeRegressor"
   ],
   "id": "d55e82ce88d5db5a",
   "outputs": [],
   "execution_count": 47
  },
  {
   "metadata": {
    "ExecuteTime": {
     "end_time": "2024-08-31T04:10:19.408526Z",
     "start_time": "2024-08-31T04:10:19.383625Z"
    }
   },
   "cell_type": "code",
   "source": [
    "df =  pd.read_csv('data/stud.csv')\n",
    "X = df.drop('math_score',axis=1)\n",
    "Y = df['math_score']"
   ],
   "id": "fec5998d5ccb6827",
   "outputs": [],
   "execution_count": 4
  },
  {
   "metadata": {
    "ExecuteTime": {
     "end_time": "2024-08-31T04:10:21.132733Z",
     "start_time": "2024-08-31T04:10:21.108191Z"
    }
   },
   "cell_type": "code",
   "source": [
    "from sklearn.preprocessing import StandardScaler\n",
    "from sklearn.preprocessing import OneHotEncoder\n",
    "from sklearn.compose import ColumnTransformer"
   ],
   "id": "7b2502d5ad7c88c6",
   "outputs": [],
   "execution_count": 5
  },
  {
   "metadata": {
    "ExecuteTime": {
     "end_time": "2024-08-31T04:10:22.841493Z",
     "start_time": "2024-08-31T04:10:22.816635Z"
    }
   },
   "cell_type": "code",
   "source": [
    "x1 = X.select_dtypes(include='object').columns\n",
    "x2 = X.select_dtypes(exclude=\"object\").columns\n",
    "preprocessor = ColumnTransformer([(\"OneHotEncoder\", OneHotEncoder(), x1),\n",
    "                                  (\"StandardScaler\",StandardScaler(),x2)])\n",
    "X = preprocessor.fit_transform(X)"
   ],
   "id": "51b1d83734389852",
   "outputs": [],
   "execution_count": 6
  },
  {
   "metadata": {
    "ExecuteTime": {
     "end_time": "2024-08-31T04:10:24.993237Z",
     "start_time": "2024-08-31T04:10:24.961081Z"
    }
   },
   "cell_type": "code",
   "source": [
    "from sklearn.model_selection import train_test_split\n",
    "X_train, X_test, y_train, y_test = train_test_split(X, Y, test_size=0.2, random_state=0)"
   ],
   "id": "f55ba615e2125913",
   "outputs": [],
   "execution_count": 7
  },
  {
   "metadata": {
    "ExecuteTime": {
     "end_time": "2024-08-31T04:10:55.119189Z",
     "start_time": "2024-08-31T04:10:55.094616Z"
    }
   },
   "cell_type": "code",
   "source": [
    "lin_model = LinearRegression().fit(X_train, y_train)\n",
    "y_pred1 = lin_model.predict(X_test)\n",
    "y_pred1"
   ],
   "id": "4de465b5314831b",
   "outputs": [
    {
     "data": {
      "text/plain": [
       "array([61.75  , 74.6875, 48.5   , 66.25  , 69.75  , 73.4375, 65.25  ,\n",
       "       48.6875, 90.375 , 42.375 , 44.5   , 60.    , 80.75  , 85.8125,\n",
       "       44.3125, 32.8125, 57.5625, 75.    , 47.6875, 81.1875, 56.125 ,\n",
       "       46.3125, 72.25  , 63.6875, 46.375 , 64.625 , 62.9375, 49.875 ,\n",
       "       56.25  , 77.8125, 73.8125, 90.75  , 85.375 , 54.8125, 42.625 ,\n",
       "       88.375 , 90.375 , 57.4375, 68.1875, 68.875 , 71.75  , 58.25  ,\n",
       "       73.1875, 67.625 , 72.5625, 50.5   , 82.75  , 53.3125, 75.3125,\n",
       "       50.875 , 42.0625, 63.6875, 41.75  , 62.0625, 37.25  , 64.875 ,\n",
       "       46.125 , 66.75  , 84.5   , 52.9375, 68.75  , 74.625 , 45.8125,\n",
       "       77.1875, 71.25  , 66.25  , 75.8125, 47.75  , 61.0625, 54.5   ,\n",
       "       78.1875, 80.5   , 77.1875, 58.9375, 61.0625, 67.5625, 77.4375,\n",
       "       76.4375, 23.8125, 73.6875, 80.8125, 80.5625, 68.0625, 89.625 ,\n",
       "       74.9375, 66.875 , 68.1875, 80.0625, 62.4375, 49.875 , 64.125 ,\n",
       "       61.0625, 55.0625, 59.    , 86.0625, 78.375 , 51.25  , 61.625 ,\n",
       "       64.0625, 68.625 , 37.375 , 91.6875, 69.875 , 29.5   , 82.1875,\n",
       "       67.4375, 57.5625, 49.6875, 53.625 , 91.625 , 65.4375, 67.5   ,\n",
       "       25.875 , 53.25  , 69.4375, 73.8125, 85.9375, 74.1875, 80.375 ,\n",
       "       52.875 , 46.1875, 74.375 , 82.1875, 87.5   , 75.5625, 51.25  ,\n",
       "       79.6875, 63.875 , 72.1875, 61.25  , 68.1875, 74.5625, 21.9375,\n",
       "       86.8125, 76.625 , 54.75  , 67.3125, 65.375 , 63.9375, 89.5   ,\n",
       "       75.125 , 64.375 , 57.6875, 61.75  , 72.25  , 39.3125, 34.    ,\n",
       "       45.375 , 72.875 , 94.8125, 50.6875, 67.1875, 88.9375, 73.9375,\n",
       "       67.8125, 81.125 , 52.25  , 51.5   , 48.5625, 54.375 , 90.    ,\n",
       "       46.3125, 51.0625, 97.1875, 54.375 , 72.5625, 68.625 , 71.1875,\n",
       "       65.25  , 67.5   , 51.875 , 62.5   , 25.    , 55.125 , 81.0625,\n",
       "       78.625 , 65.8125, 48.8125, 90.5   , 82.75  , 64.0625, 75.5   ,\n",
       "       64.75  , 71.875 , 69.625 , 72.5   , 86.9375, 96.75  , 67.0625,\n",
       "       48.5   , 53.75  , 63.5625, 51.    , 72.75  , 60.6875, 63.1875,\n",
       "       75.8125, 81.3125, 61.875 , 71.875 ])"
      ]
     },
     "execution_count": 14,
     "metadata": {},
     "output_type": "execute_result"
    }
   ],
   "execution_count": 14
  },
  {
   "metadata": {
    "ExecuteTime": {
     "end_time": "2024-08-31T04:11:16.859359Z",
     "start_time": "2024-08-31T04:11:16.843446Z"
    }
   },
   "cell_type": "code",
   "source": [
    "score = r2_score(y_test, y_pred1)*100\n",
    "score"
   ],
   "id": "33a8e340c464fe94",
   "outputs": [
    {
     "data": {
      "text/plain": [
       "86.2949600339318"
      ]
     },
     "execution_count": 18,
     "metadata": {},
     "output_type": "execute_result"
    }
   ],
   "execution_count": 18
  },
  {
   "metadata": {
    "ExecuteTime": {
     "end_time": "2024-08-31T04:15:55.175564Z",
     "start_time": "2024-08-31T04:15:54.215339Z"
    }
   },
   "cell_type": "code",
   "source": [
    "Ran_model = RandomForestRegressor().fit(X_train, y_train)\n",
    "y_pred2 = Ran_model.predict(X_test)"
   ],
   "id": "6beb996bcfd45001",
   "outputs": [],
   "execution_count": 45
  },
  {
   "metadata": {
    "ExecuteTime": {
     "end_time": "2024-08-31T04:14:35.263045Z",
     "start_time": "2024-08-31T04:14:35.250187Z"
    }
   },
   "cell_type": "code",
   "source": "y_pred2",
   "id": "8ec9cd0be4c89528",
   "outputs": [
    {
     "data": {
      "text/plain": [
       "array([63.43 , 75.01 , 48.67 , 69.19 , 71.035, 74.   , 63.555, 51.08 ,\n",
       "       91.51 , 41.76 , 46.34 , 59.68 , 80.59 , 82.79 , 47.71 , 33.35 ,\n",
       "       51.24 , 77.665, 49.26 , 80.58 , 54.86 , 45.05 , 72.93 , 63.53 ,\n",
       "       49.33 , 65.59 , 62.69 , 51.63 , 59.09 , 74.385, 74.55 , 89.405,\n",
       "       85.69 , 54.4  , 46.57 , 84.45 , 88.71 , 62.19 , 67.99 , 67.89 ,\n",
       "       72.43 , 59.64 , 73.76 , 68.15 , 73.86 , 54.2  , 81.58 , 52.52 ,\n",
       "       76.955, 50.76 , 43.23 , 60.81 , 44.58 , 63.76 , 43.5  , 62.1  ,\n",
       "       46.29 , 65.59 , 80.74 , 54.94 , 69.155, 71.65 , 47.41 , 80.9  ,\n",
       "       68.01 , 68.72 , 75.95 , 46.46 , 61.44 , 52.45 , 76.05 , 88.29 ,\n",
       "       76.26 , 60.68 , 56.98 , 65.49 , 74.72 , 75.62 , 24.12 , 74.81 ,\n",
       "       77.75 , 79.08 , 65.955, 90.075, 77.21 , 67.97 , 69.2  , 82.39 ,\n",
       "       65.29 , 49.99 , 63.33 , 61.36 , 56.6  , 57.51 , 84.47 , 77.46 ,\n",
       "       48.66 , 65.6  , 65.62 , 65.43 , 38.83 , 92.83 , 68.56 , 40.02 ,\n",
       "       79.73 , 67.74 , 54.16 , 50.19 , 51.81 , 92.7  , 64.35 , 66.93 ,\n",
       "       31.47 , 59.42 , 64.105, 71.66 , 82.32 , 76.73 , 79.61 , 56.86 ,\n",
       "       46.32 , 73.15 , 85.14 , 84.84 , 79.28 , 55.01 , 79.62 , 65.29 ,\n",
       "       71.655, 58.02 , 70.27 , 73.46 , 25.24 , 91.16 , 75.71 , 51.12 ,\n",
       "       70.41 , 67.99 , 66.22 , 86.   , 75.28 , 63.24 , 54.23 , 63.82 ,\n",
       "       73.55 , 39.42 , 37.47 , 51.47 , 72.005, 91.48 , 51.95 , 66.58 ,\n",
       "       94.13 , 74.15 , 68.95 , 80.91 , 51.15 , 52.44 , 44.86 , 52.94 ,\n",
       "       88.   , 44.86 , 52.35 , 92.99 , 57.48 , 70.08 , 71.16 , 71.5  ,\n",
       "       62.63 , 68.35 , 45.93 , 62.78 , 29.84 , 61.88 , 77.36 , 74.89 ,\n",
       "       69.145, 48.88 , 93.43 , 81.56 , 63.75 , 76.4  , 66.85 , 71.1  ,\n",
       "       69.97 , 71.   , 92.51 , 95.29 , 69.44 , 52.94 , 51.96 , 62.05 ,\n",
       "       53.89 , 75.9  , 61.03 , 61.92 , 76.535, 81.4  , 60.7  , 69.12 ])"
      ]
     },
     "execution_count": 35,
     "metadata": {},
     "output_type": "execute_result"
    }
   ],
   "execution_count": 35
  },
  {
   "metadata": {
    "ExecuteTime": {
     "end_time": "2024-08-31T04:18:39.105222Z",
     "start_time": "2024-08-31T04:18:39.080359Z"
    }
   },
   "cell_type": "code",
   "source": [
    "score2 = r2_score(y_test, y_pred2)*100\n",
    "score2"
   ],
   "id": "d5fbf3d16b01c23b",
   "outputs": [
    {
     "data": {
      "text/plain": [
       "85.87406132992015"
      ]
     },
     "execution_count": 49,
     "metadata": {},
     "output_type": "execute_result"
    }
   ],
   "execution_count": 49
  },
  {
   "metadata": {
    "ExecuteTime": {
     "end_time": "2024-08-31T04:18:29.128517Z",
     "start_time": "2024-08-31T04:18:29.081004Z"
    }
   },
   "cell_type": "code",
   "source": [
    "Dec_model = DecisionTreeRegressor().fit(X_train, y_train)\n",
    "y_pred3 = Dec_model.predict(X_test)"
   ],
   "id": "b8b5c8e32b8890f7",
   "outputs": [],
   "execution_count": 48
  },
  {
   "metadata": {
    "ExecuteTime": {
     "end_time": "2024-08-31T04:18:54.883045Z",
     "start_time": "2024-08-31T04:18:54.852245Z"
    }
   },
   "cell_type": "code",
   "source": [
    "score3 = r2_score(y_test, y_pred3)*100\n",
    "score3"
   ],
   "id": "88e2ffe69ff2cb5c",
   "outputs": [
    {
     "data": {
      "text/plain": [
       "74.58755807549463"
      ]
     },
     "execution_count": 51,
     "metadata": {},
     "output_type": "execute_result"
    }
   ],
   "execution_count": 51
  }
 ],
 "metadata": {
  "kernelspec": {
   "display_name": "Python 3",
   "language": "python",
   "name": "python3"
  },
  "language_info": {
   "codemirror_mode": {
    "name": "ipython",
    "version": 2
   },
   "file_extension": ".py",
   "mimetype": "text/x-python",
   "name": "python",
   "nbconvert_exporter": "python",
   "pygments_lexer": "ipython2",
   "version": "2.7.6"
  }
 },
 "nbformat": 4,
 "nbformat_minor": 5
}
